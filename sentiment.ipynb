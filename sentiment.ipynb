{
  "nbformat": 4,
  "nbformat_minor": 0,
  "metadata": {
    "kernelspec": {
      "display_name": "Python 3",
      "language": "python",
      "name": "python3"
    },
    "language_info": {
      "codemirror_mode": {
        "name": "ipython",
        "version": 3
      },
      "file_extension": ".py",
      "mimetype": "text/x-python",
      "name": "python",
      "nbconvert_exporter": "python",
      "pygments_lexer": "ipython3",
      "version": "3.7.3"
    },
    "colab": {
      "name": "sentiment.ipynb",
      "provenance": []
    }
  },
  "cells": [
    {
      "cell_type": "markdown",
      "metadata": {
        "id": "hC4tHCcyp21-",
        "colab_type": "text"
      },
      "source": [
        "# Imports"
      ]
    },
    {
      "cell_type": "code",
      "metadata": {
        "id": "EFP6BLozp22E",
        "colab_type": "code",
        "colab": {}
      },
      "source": [
        "from sklearn.feature_extraction.text import CountVectorizer\n",
        "from sklearn.naive_bayes import BernoulliNB\n",
        "from sklearn.metrics import confusion_matrix\n",
        "\n",
        "import numpy as np\n",
        "import itertools\n",
        "import matplotlib.pyplot as plt\n",
        "import pandas"
      ],
      "execution_count": 0,
      "outputs": []
    },
    {
      "cell_type": "markdown",
      "metadata": {
        "id": "mNpWppK9p22L",
        "colab_type": "text"
      },
      "source": [
        "## Open Datasets"
      ]
    },
    {
      "cell_type": "code",
      "metadata": {
        "id": "dy4tHsgJp22O",
        "colab_type": "code",
        "outputId": "d5173967-8d57-406f-c159-771c7f9cae11",
        "colab": {}
      },
      "source": [
        "def get_all_data():\n",
        "    root = \"Datasets/\"\n",
        "\n",
        "    #reading all the dataset and storing it in data\n",
        "\n",
        "    with open(root + \"imdb_labelled.txt\", \"r\") as text_file:\n",
        "        data = text_file.read().split('\\n')\n",
        "         \n",
        "    with open(root + \"amazon_cells_labelled.txt\", \"r\") as text_file:\n",
        "        data += text_file.read().split('\\n')\n",
        "\n",
        "    with open(root + \"yelp_labelled.txt\", \"r\") as text_file:\n",
        "        data += text_file.read().split('\\n')\n",
        "\n",
        "    return data\n",
        "\n",
        "#printing random rows\n",
        "values = get_all_data()\n",
        "print(values[0])\n",
        "print(values[11])\n",
        "print(values[100])\n",
        "print(values[1001])"
      ],
      "execution_count": 0,
      "outputs": [
        {
          "output_type": "stream",
          "text": [
            "A very, very, very slow-moving, aimless movie about a distressed, drifting young man.  \t0\n",
            "The movie showed a lot of Florida at it's best, made it look very appealing.  \t1\n",
            "I don't think you will be disappointed.  \t1\n",
            "So there is no way for me to plug it in here in the US unless I go by a converter.\t0\n"
          ],
          "name": "stdout"
        }
      ]
    },
    {
      "cell_type": "markdown",
      "metadata": {
        "id": "FheiV6wsp22W",
        "colab_type": "text"
      },
      "source": [
        "## Preprocessing of data"
      ]
    },
    {
      "cell_type": "code",
      "metadata": {
        "id": "-Bh3CZSfp22X",
        "colab_type": "code",
        "outputId": "ec535a1b-00c0-4099-8732-3d2f8d888206",
        "colab": {}
      },
      "source": [
        "def preprocessing_data(data):\n",
        "    processing_data = []\n",
        "    for single_data in data:\n",
        "        if len(single_data.split(\"\\t\")) == 2 and single_data.split(\"\\t\")[1] != \"\":\n",
        "            processing_data.append(single_data.split(\"\\t\"))\n",
        "\n",
        "    return processing_data\n",
        "\n",
        "all_data = get_all_data()\n",
        "values = preprocessing_data(all_data)\n",
        "print(values[0])\n",
        "print(values[11])"
      ],
      "execution_count": 0,
      "outputs": [
        {
          "output_type": "stream",
          "text": [
            "['A very, very, very slow-moving, aimless movie about a distressed, drifting young man.  ', '0']\n",
            "[\"The movie showed a lot of Florida at it's best, made it look very appealing.  \", '1']\n"
          ],
          "name": "stdout"
        }
      ]
    },
    {
      "cell_type": "markdown",
      "metadata": {
        "id": "80_Q1Kg1p22e",
        "colab_type": "text"
      },
      "source": [
        "## Split Data"
      ]
    },
    {
      "cell_type": "code",
      "metadata": {
        "id": "au7OmNR-p22g",
        "colab_type": "code",
        "colab": {}
      },
      "source": [
        "def split_data(data):\n",
        "    total = len(data)\n",
        "    training_ratio = 0.75\n",
        "    training_data = []\n",
        "    evaluation_data = []\n",
        "\n",
        "    for indice in range(0, total):\n",
        "      #training dataset\n",
        "        if indice < total * training_ratio:\n",
        "            training_data.append(data[indice])\n",
        "        #evaluation dataset\n",
        "        else:\n",
        "            evaluation_data.append(data[indice])\n",
        "\n",
        "    return training_data, evaluation_data"
      ],
      "execution_count": 0,
      "outputs": []
    },
    {
      "cell_type": "markdown",
      "metadata": {
        "id": "Kfe8d6Nsp22n",
        "colab_type": "text"
      },
      "source": [
        "## Preprocessing Step"
      ]
    },
    {
      "cell_type": "code",
      "metadata": {
        "id": "3XWrFpCGp22p",
        "colab_type": "code",
        "colab": {}
      },
      "source": [
        "def preprocessing_step():\n",
        "    data = get_all_data()\n",
        "    processing_data = preprocessing_data(data)\n",
        "\n",
        "    return split_data(processing_data)"
      ],
      "execution_count": 0,
      "outputs": []
    },
    {
      "cell_type": "markdown",
      "metadata": {
        "id": "YH7mVX7rp22z",
        "colab_type": "text"
      },
      "source": [
        "## Training Step"
      ]
    },
    {
      "cell_type": "code",
      "metadata": {
        "id": "5QfFfoK3p222",
        "colab_type": "code",
        "colab": {}
      },
      "source": [
        "def training_step(data, vectorizer):\n",
        "    training_text = [data[0] for data in data]\n",
        "    training_result = [data[1] for data in data]\n",
        "\n",
        "    training_text = vectorizer.fit_transform(training_text)\n",
        "\n",
        "    return BernoulliNB().fit(training_text, training_result)"
      ],
      "execution_count": 0,
      "outputs": []
    },
    {
      "cell_type": "markdown",
      "metadata": {
        "id": "285gLC2rp227",
        "colab_type": "text"
      },
      "source": [
        "## Score Step"
      ]
    },
    {
      "cell_type": "code",
      "metadata": {
        "id": "prdSVKYCp229",
        "colab_type": "code",
        "outputId": "b1c89d16-87c3-4694-9a58-e925b61129a4",
        "colab": {}
      },
      "source": [
        "training_data, evaluation_data = preprocessing_step()\n",
        "vectorizer = CountVectorizer(binary = 'true')\n",
        "classifier = training_step(training_data, vectorizer)\n",
        "result = classifier.predict(vectorizer.transform([\"I love this movie!\"]))\n",
        "\n",
        "result[0]"
      ],
      "execution_count": 0,
      "outputs": [
        {
          "output_type": "execute_result",
          "data": {
            "text/plain": [
              "'1'"
            ]
          },
          "metadata": {
            "tags": []
          },
          "execution_count": 22
        }
      ]
    },
    {
      "cell_type": "code",
      "metadata": {
        "id": "VClzjMiTp23F",
        "colab_type": "code",
        "outputId": "b6116a6f-98fe-415d-f08c-3d1647f3dab5",
        "colab": {}
      },
      "source": [
        "def analyse_text(classifier, vectorizer, text):\n",
        "    return text, classifier.predict(vectorizer.transform([text]))\n",
        "\n",
        "new_result = analyse_text(classifier, vectorizer, \"Best product ever\")\n",
        "new_result"
      ],
      "execution_count": 0,
      "outputs": [
        {
          "output_type": "execute_result",
          "data": {
            "text/plain": [
              "('Best product ever', array(['1'], dtype='<U1'))"
            ]
          },
          "metadata": {
            "tags": []
          },
          "execution_count": 23
        }
      ]
    },
    {
      "cell_type": "code",
      "metadata": {
        "id": "jDgcrnKUp23Q",
        "colab_type": "code",
        "outputId": "60ba1f73-20ed-4ff9-c698-a34ec40e1202",
        "colab": {}
      },
      "source": [
        "def print_result(result):\n",
        "    text, analysis_result = result\n",
        "    print_text = \"Positive\" if analysis_result[0] == '1' else \"Negative\"\n",
        "    print(text, \":\", print_text)\n",
        "    \n",
        "print_result(new_result)"
      ],
      "execution_count": 0,
      "outputs": [
        {
          "output_type": "stream",
          "text": [
            "Best product ever : Positive\n"
          ],
          "name": "stdout"
        }
      ]
    },
    {
      "cell_type": "markdown",
      "metadata": {
        "id": "mtHbs4jgp23Y",
        "colab_type": "text"
      },
      "source": [
        "### More examples"
      ]
    },
    {
      "cell_type": "code",
      "metadata": {
        "scrolled": true,
        "id": "qVZWH_cVp23a",
        "colab_type": "code",
        "outputId": "9160a81c-3a17-451f-fd36-c885daf5d17f",
        "colab": {}
      },
      "source": [
        "print_result( analyse_text(classifier, vectorizer,\"It was a good movie\"))\n",
        "print_result( analyse_text(classifier, vectorizer,\"this is the worst movie\"))\n",
        "print_result( analyse_text(classifier, vectorizer,\"awesome!\"))\n",
        "print_result( analyse_text(classifier, vectorizer,\"10/10\"))\n",
        "print_result( analyse_text(classifier, vectorizer,\"so bad\"))\n",
        "print_result( analyse_text(classifier, vectorizer,\"nice\"))"
      ],
      "execution_count": 0,
      "outputs": [
        {
          "output_type": "stream",
          "text": [
            "It was a good movie : Positive\n",
            "this is the worst movie : Negative\n",
            "awesome! : Positive\n",
            "10/10 : Positive\n",
            "so bad : Negative\n",
            "nice : Positive\n"
          ],
          "name": "stdout"
        }
      ]
    },
    {
      "cell_type": "markdown",
      "metadata": {
        "id": "jeJrfF-cp23i",
        "colab_type": "text"
      },
      "source": [
        "## Evaluation Step"
      ]
    },
    {
      "cell_type": "code",
      "metadata": {
        "id": "x2JAJ2wVp23l",
        "colab_type": "code",
        "outputId": "09956d24-4e20-4427-e13a-994e2af13929",
        "colab": {}
      },
      "source": [
        "def simple_evaluation(evaluation_data):\n",
        "    evaluation_text     = [evaluation_data[0] for evaluation_data in evaluation_data]\n",
        "    evaluation_result   = [evaluation_data[1] for evaluation_data in evaluation_data]\n",
        "\n",
        "    total = len(evaluation_text)\n",
        "    corrects = 0\n",
        "    for index in range(0, total):\n",
        "        analysis_result = analyse_text(classifier, vectorizer, evaluation_text[index])\n",
        "        text, result = analysis_result\n",
        "        corrects += 1 if result[0] == evaluation_result[index] else 0\n",
        "\n",
        "    return corrects * 100 / total\n",
        "\n",
        "simple_evaluation(evaluation_data)"
      ],
      "execution_count": 0,
      "outputs": [
        {
          "output_type": "execute_result",
          "data": {
            "text/plain": [
              "82.0"
            ]
          },
          "metadata": {
            "tags": []
          },
          "execution_count": 26
        }
      ]
    },
    {
      "cell_type": "markdown",
      "metadata": {
        "id": "vLz7w7J0p23t",
        "colab_type": "text"
      },
      "source": [
        "### Confusion Matrix"
      ]
    },
    {
      "cell_type": "code",
      "metadata": {
        "id": "MY2j0VVCp23v",
        "colab_type": "code",
        "colab": {}
      },
      "source": [
        "def create_confusion_matrix(evaluation_data):\n",
        "    evaluation_text     = [evaluation_data[0] for evaluation_data in evaluation_data]\n",
        "    actual_result       = [evaluation_data[1] for evaluation_data in evaluation_data]\n",
        "    prediction_result   = []\n",
        "    for text in evaluation_text:\n",
        "        analysis_result = analyse_text(classifier, vectorizer, text)\n",
        "        prediction_result.append(analysis_result[1][0])\n",
        "    \n",
        "    matrix = confusion_matrix(actual_result, prediction_result)\n",
        "    return matrix\n",
        "    \n",
        "confusion_matrix_result = create_confusion_matrix(evaluation_data)"
      ],
      "execution_count": 0,
      "outputs": []
    },
    {
      "cell_type": "markdown",
      "metadata": {
        "id": "uOEZjsbGp236",
        "colab_type": "text"
      },
      "source": [
        "## Data Frame"
      ]
    },
    {
      "cell_type": "code",
      "metadata": {
        "id": "a4CdVj6Xp239",
        "colab_type": "code",
        "outputId": "980d4393-abb6-4ae8-aa0e-4c956fccf9c2",
        "colab": {}
      },
      "source": [
        "pandas.DataFrame(confusion_matrix_result, columns=[\"Negatives\", \"Positives\"],index=[\"Negatives\", \"Positives\"])"
      ],
      "execution_count": 0,
      "outputs": [
        {
          "output_type": "execute_result",
          "data": {
            "text/html": [
              "<div>\n",
              "<style scoped>\n",
              "    .dataframe tbody tr th:only-of-type {\n",
              "        vertical-align: middle;\n",
              "    }\n",
              "\n",
              "    .dataframe tbody tr th {\n",
              "        vertical-align: top;\n",
              "    }\n",
              "\n",
              "    .dataframe thead th {\n",
              "        text-align: right;\n",
              "    }\n",
              "</style>\n",
              "<table border=\"1\" class=\"dataframe\">\n",
              "  <thead>\n",
              "    <tr style=\"text-align: right;\">\n",
              "      <th></th>\n",
              "      <th>Negatives</th>\n",
              "      <th>Positives</th>\n",
              "    </tr>\n",
              "  </thead>\n",
              "  <tbody>\n",
              "    <tr>\n",
              "      <th>Negatives</th>\n",
              "      <td>322</td>\n",
              "      <td>64</td>\n",
              "    </tr>\n",
              "    <tr>\n",
              "      <th>Positives</th>\n",
              "      <td>71</td>\n",
              "      <td>293</td>\n",
              "    </tr>\n",
              "  </tbody>\n",
              "</table>\n",
              "</div>"
            ],
            "text/plain": [
              "           Negatives  Positives\n",
              "Negatives        322         64\n",
              "Positives         71        293"
            ]
          },
          "metadata": {
            "tags": []
          },
          "execution_count": 28
        }
      ]
    },
    {
      "cell_type": "markdown",
      "metadata": {
        "id": "FwX-CVgwp24F",
        "colab_type": "text"
      },
      "source": [
        "### Plot Confusion Matrix"
      ]
    },
    {
      "cell_type": "code",
      "metadata": {
        "id": "LqQC0favp24H",
        "colab_type": "code",
        "outputId": "8b39800e-f2e7-47d2-9a4c-e2bc0f0a1cbd",
        "colab": {}
      },
      "source": [
        "classes = [\"Negatives\", \"Positives\"]\n",
        "\n",
        "plt.figure()\n",
        "plt.imshow(confusion_matrix_result, interpolation='nearest', cmap=plt.cm.Blues)\n",
        "plt.title(\"Confusion Matrix - Sentiment Analysis\")\n",
        "plt.colorbar()\n",
        "tick_marks = np.arange(len(classes))\n",
        "plt.xticks(tick_marks, classes, rotation=45)\n",
        "plt.yticks(tick_marks, classes)\n",
        "\n",
        "text_format = 'd'\n",
        "thresh = confusion_matrix_result.max() / 2.\n",
        "for row, column in itertools.product(range(confusion_matrix_result.shape[0]), range(confusion_matrix_result.shape[1])):\n",
        "    plt.text(column, row, format(confusion_matrix_result[row, column], text_format),\n",
        "             horizontalalignment=\"center\",\n",
        "             color=\"white\" if confusion_matrix_result[row, column] > thresh else \"black\")\n",
        "\n",
        "plt.ylabel('True label')\n",
        "plt.xlabel('Predicted label')\n",
        "plt.tight_layout()\n",
        "\n",
        "plt.show()"
      ],
      "execution_count": 0,
      "outputs": [
        {
          "output_type": "display_data",
          "data": {
            "image/png": "[encoded data removed]",
            "text/plain": [
              "<Figure size 432x288 with 2 Axes>"
            ]
          },
          "metadata": {
            "tags": [],
            "needs_background": "light"
          }
        }
      ]
    },
    {
      "cell_type": "code",
      "metadata": {
        "id": "TimnnI86p24N",
        "colab_type": "code",
        "outputId": "2eebe3c7-5b36-48bc-c068-cb6ca2a9acda",
        "colab": {}
      },
      "source": [
        "true_negatives = confusion_matrix_result[0][0]\n",
        "false_negatives = confusion_matrix_result[0][1]\n",
        "false_positives = confusion_matrix_result[1][0]\n",
        "true_positives = confusion_matrix_result[1][1]\n",
        "\n",
        "accuracy = (true_positives + true_negatives) / (true_positives + true_negatives + false_positives + false_negatives)\n",
        "precision = true_positives / (true_positives + false_positives)\n",
        "recall = true_positives / (true_positives + false_negatives)\n",
        "f1_score = 2*(recall * precision) / (recall + precision)\n",
        "\n",
        "print('Accuracy:',accuracy)\n",
        "print('Precision:',precision)\n",
        "print('Recall:',recall)\n",
        "print('F1 Score:',f1_score)"
      ],
      "execution_count": 0,
      "outputs": [
        {
          "output_type": "stream",
          "text": [
            "Accuracy: 0.82\n",
            "Precision: 0.804945054945055\n",
            "Recall: 0.8207282913165266\n",
            "F1 Score: 0.812760055478502\n"
          ],
          "name": "stdout"
        }
      ]
    },
    {
      "cell_type": "code",
      "metadata": {
        "id": "yuqailRYp24R",
        "colab_type": "code",
        "colab": {}
      },
      "source": [
        ""
      ],
      "execution_count": 0,
      "outputs": []
    },
    {
      "cell_type": "code",
      "metadata": {
        "id": "YKitaCVnp24W",
        "colab_type": "code",
        "outputId": "71c3bdae-3bca-4f1f-a55c-e0d090043e7d",
        "colab": {
          "base_uri": "https://localhost:8080/",
          "height": 420
        }
      },
      "source": [
        "!apt-get install -y -qq software-properties-common python-software-properties module-init-tools\n",
        "!add-apt-repository -y ppa:alessandro-strada/ppa 2>&1 > /dev/null\n",
        "!apt-get update -qq 2>&1 > /dev/null\n",
        "!apt-get -y install -qq google-drive-ocamlfuse fuse\n",
        "from google.colab import auth\n",
        "auth.authenticate_user()\n",
        "from oauth2client.client import GoogleCredentials\n",
        "creds = GoogleCredentials.get_application_default()\n",
        "import getpass\n",
        "!google-drive-ocamlfuse -headless -id={creds.client_id} -secret={creds.client_secret} < /dev/null 2>&1 | grep URL\n",
        "vcode = getpass.getpass()\n",
        "!echo {vcode} | google-drive-ocamlfuse -headless -id={creds.client_id} -secret={creds.client_secret}\n"
      ],
      "execution_count": 1,
      "outputs": [
        {
          "output_type": "stream",
          "text": [
            "E: Package 'python-software-properties' has no installation candidate\n"
          ],
          "name": "stdout"
        },
        {
          "output_type": "error",
          "ename": "KeyboardInterrupt",
          "evalue": "ignored",
          "traceback": [
            "\u001b[0;31m---------------------------------------------------------------------------\u001b[0m",
            "\u001b[0;31mKeyboardInterrupt\u001b[0m                         Traceback (most recent call last)",
            "\u001b[0;32m<ipython-input-1-75a4d519ca25>\u001b[0m in \u001b[0;36m<module>\u001b[0;34m()\u001b[0m\n\u001b[1;32m      1\u001b[0m \u001b[0mget_ipython\u001b[0m\u001b[0;34m(\u001b[0m\u001b[0;34m)\u001b[0m\u001b[0;34m.\u001b[0m\u001b[0msystem\u001b[0m\u001b[0;34m(\u001b[0m\u001b[0;34m'apt-get install -y -qq software-properties-common python-software-properties module-init-tools'\u001b[0m\u001b[0;34m)\u001b[0m\u001b[0;34m\u001b[0m\u001b[0;34m\u001b[0m\u001b[0m\n\u001b[1;32m      2\u001b[0m \u001b[0mget_ipython\u001b[0m\u001b[0;34m(\u001b[0m\u001b[0;34m)\u001b[0m\u001b[0;34m.\u001b[0m\u001b[0msystem\u001b[0m\u001b[0;34m(\u001b[0m\u001b[0;34m'add-apt-repository -y ppa:alessandro-strada/ppa 2>&1 > /dev/null'\u001b[0m\u001b[0;34m)\u001b[0m\u001b[0;34m\u001b[0m\u001b[0;34m\u001b[0m\u001b[0m\n\u001b[0;32m----> 3\u001b[0;31m \u001b[0mget_ipython\u001b[0m\u001b[0;34m(\u001b[0m\u001b[0;34m)\u001b[0m\u001b[0;34m.\u001b[0m\u001b[0msystem\u001b[0m\u001b[0;34m(\u001b[0m\u001b[0;34m'apt-get update -qq 2>&1 > /dev/null'\u001b[0m\u001b[0;34m)\u001b[0m\u001b[0;34m\u001b[0m\u001b[0;34m\u001b[0m\u001b[0m\n\u001b[0m\u001b[1;32m      4\u001b[0m \u001b[0mget_ipython\u001b[0m\u001b[0;34m(\u001b[0m\u001b[0;34m)\u001b[0m\u001b[0;34m.\u001b[0m\u001b[0msystem\u001b[0m\u001b[0;34m(\u001b[0m\u001b[0;34m'apt-get -y install -qq google-drive-ocamlfuse fuse'\u001b[0m\u001b[0;34m)\u001b[0m\u001b[0;34m\u001b[0m\u001b[0;34m\u001b[0m\u001b[0m\n\u001b[1;32m      5\u001b[0m \u001b[0;32mfrom\u001b[0m \u001b[0mgoogle\u001b[0m\u001b[0;34m.\u001b[0m\u001b[0mcolab\u001b[0m \u001b[0;32mimport\u001b[0m \u001b[0mauth\u001b[0m\u001b[0;34m\u001b[0m\u001b[0;34m\u001b[0m\u001b[0m\n",
            "\u001b[0;32m/usr/local/lib/python3.6/dist-packages/google/colab/_shell.py\u001b[0m in \u001b[0;36msystem\u001b[0;34m(self, *args, **kwargs)\u001b[0m\n\u001b[1;32m     94\u001b[0m       \u001b[0mkwargs\u001b[0m\u001b[0;34m.\u001b[0m\u001b[0mupdate\u001b[0m\u001b[0;34m(\u001b[0m\u001b[0;34m{\u001b[0m\u001b[0;34m'also_return_output'\u001b[0m\u001b[0;34m:\u001b[0m \u001b[0;32mTrue\u001b[0m\u001b[0;34m}\u001b[0m\u001b[0;34m)\u001b[0m\u001b[0;34m\u001b[0m\u001b[0;34m\u001b[0m\u001b[0m\n\u001b[1;32m     95\u001b[0m \u001b[0;34m\u001b[0m\u001b[0m\n\u001b[0;32m---> 96\u001b[0;31m     \u001b[0moutput\u001b[0m \u001b[0;34m=\u001b[0m \u001b[0m_system_commands\u001b[0m\u001b[0;34m.\u001b[0m\u001b[0m_system_compat\u001b[0m\u001b[0;34m(\u001b[0m\u001b[0mself\u001b[0m\u001b[0;34m,\u001b[0m \u001b[0;34m*\u001b[0m\u001b[0margs\u001b[0m\u001b[0;34m,\u001b[0m \u001b[0;34m**\u001b[0m\u001b[0mkwargs\u001b[0m\u001b[0;34m)\u001b[0m  \u001b[0;31m# pylint:disable=protected-access\u001b[0m\u001b[0;34m\u001b[0m\u001b[0;34m\u001b[0m\u001b[0m\n\u001b[0m\u001b[1;32m     97\u001b[0m \u001b[0;34m\u001b[0m\u001b[0m\n\u001b[1;32m     98\u001b[0m     \u001b[0;32mif\u001b[0m \u001b[0mpip_warn\u001b[0m\u001b[0;34m:\u001b[0m\u001b[0;34m\u001b[0m\u001b[0;34m\u001b[0m\u001b[0m\n",
            "\u001b[0;32m/usr/local/lib/python3.6/dist-packages/google/colab/_system_commands.py\u001b[0m in \u001b[0;36m_system_compat\u001b[0;34m(shell, cmd, also_return_output)\u001b[0m\n\u001b[1;32m    436\u001b[0m   \u001b[0;31m# stack.\u001b[0m\u001b[0;34m\u001b[0m\u001b[0;34m\u001b[0m\u001b[0;34m\u001b[0m\u001b[0m\n\u001b[1;32m    437\u001b[0m   result = _run_command(\n\u001b[0;32m--> 438\u001b[0;31m       shell.var_expand(cmd, depth=2), clear_streamed_output=False)\n\u001b[0m\u001b[1;32m    439\u001b[0m   \u001b[0mshell\u001b[0m\u001b[0;34m.\u001b[0m\u001b[0muser_ns\u001b[0m\u001b[0;34m[\u001b[0m\u001b[0;34m'_exit_code'\u001b[0m\u001b[0;34m]\u001b[0m \u001b[0;34m=\u001b[0m \u001b[0mresult\u001b[0m\u001b[0;34m.\u001b[0m\u001b[0mreturncode\u001b[0m\u001b[0;34m\u001b[0m\u001b[0;34m\u001b[0m\u001b[0m\n\u001b[1;32m    440\u001b[0m   \u001b[0;32mif\u001b[0m \u001b[0;34m-\u001b[0m\u001b[0mresult\u001b[0m\u001b[0;34m.\u001b[0m\u001b[0mreturncode\u001b[0m \u001b[0;32min\u001b[0m \u001b[0m_INTERRUPTED_SIGNALS\u001b[0m\u001b[0;34m:\u001b[0m\u001b[0;34m\u001b[0m\u001b[0;34m\u001b[0m\u001b[0m\n",
            "\u001b[0;32m/usr/local/lib/python3.6/dist-packages/google/colab/_system_commands.py\u001b[0m in \u001b[0;36m_run_command\u001b[0;34m(cmd, clear_streamed_output)\u001b[0m\n\u001b[1;32m    179\u001b[0m \u001b[0;34m\u001b[0m\u001b[0m\n\u001b[1;32m    180\u001b[0m     with temporary_clearer(), _display_stdin_widget(\n\u001b[0;32m--> 181\u001b[0;31m         delay_millis=500) as update_stdin_widget:\n\u001b[0m\u001b[1;32m    182\u001b[0m       \u001b[0;31m# TODO(b/115531839): Ensure that subprocesses are terminated upon\u001b[0m\u001b[0;34m\u001b[0m\u001b[0;34m\u001b[0m\u001b[0;34m\u001b[0m\u001b[0m\n\u001b[1;32m    183\u001b[0m       \u001b[0;31m# interrupt.\u001b[0m\u001b[0;34m\u001b[0m\u001b[0;34m\u001b[0m\u001b[0;34m\u001b[0m\u001b[0m\n",
            "\u001b[0;32m/usr/lib/python3.6/contextlib.py\u001b[0m in \u001b[0;36m__enter__\u001b[0;34m(self)\u001b[0m\n\u001b[1;32m     79\u001b[0m     \u001b[0;32mdef\u001b[0m \u001b[0m__enter__\u001b[0m\u001b[0;34m(\u001b[0m\u001b[0mself\u001b[0m\u001b[0;34m)\u001b[0m\u001b[0;34m:\u001b[0m\u001b[0;34m\u001b[0m\u001b[0;34m\u001b[0m\u001b[0m\n\u001b[1;32m     80\u001b[0m         \u001b[0;32mtry\u001b[0m\u001b[0;34m:\u001b[0m\u001b[0;34m\u001b[0m\u001b[0;34m\u001b[0m\u001b[0m\n\u001b[0;32m---> 81\u001b[0;31m             \u001b[0;32mreturn\u001b[0m \u001b[0mnext\u001b[0m\u001b[0;34m(\u001b[0m\u001b[0mself\u001b[0m\u001b[0;34m.\u001b[0m\u001b[0mgen\u001b[0m\u001b[0;34m)\u001b[0m\u001b[0;34m\u001b[0m\u001b[0;34m\u001b[0m\u001b[0m\n\u001b[0m\u001b[1;32m     82\u001b[0m         \u001b[0;32mexcept\u001b[0m \u001b[0mStopIteration\u001b[0m\u001b[0;34m:\u001b[0m\u001b[0;34m\u001b[0m\u001b[0;34m\u001b[0m\u001b[0m\n\u001b[1;32m     83\u001b[0m             \u001b[0;32mraise\u001b[0m \u001b[0mRuntimeError\u001b[0m\u001b[0;34m(\u001b[0m\u001b[0;34m\"generator didn't yield\"\u001b[0m\u001b[0;34m)\u001b[0m \u001b[0;32mfrom\u001b[0m \u001b[0;32mNone\u001b[0m\u001b[0;34m\u001b[0m\u001b[0;34m\u001b[0m\u001b[0m\n",
            "\u001b[0;32m/usr/local/lib/python3.6/dist-packages/google/colab/_system_commands.py\u001b[0m in \u001b[0;36m_display_stdin_widget\u001b[0;34m(delay_millis)\u001b[0m\n\u001b[1;32m    339\u001b[0m   \u001b[0mshell\u001b[0m \u001b[0;34m=\u001b[0m \u001b[0m_ipython\u001b[0m\u001b[0;34m.\u001b[0m\u001b[0mget_ipython\u001b[0m\u001b[0;34m(\u001b[0m\u001b[0;34m)\u001b[0m\u001b[0;34m\u001b[0m\u001b[0;34m\u001b[0m\u001b[0m\n\u001b[1;32m    340\u001b[0m   \u001b[0mdisplay_args\u001b[0m \u001b[0;34m=\u001b[0m \u001b[0;34m[\u001b[0m\u001b[0;34m'cell_display_stdin'\u001b[0m\u001b[0;34m,\u001b[0m \u001b[0;34m{\u001b[0m\u001b[0;34m'delayMillis'\u001b[0m\u001b[0;34m:\u001b[0m \u001b[0mdelay_millis\u001b[0m\u001b[0;34m}\u001b[0m\u001b[0;34m]\u001b[0m\u001b[0;34m\u001b[0m\u001b[0;34m\u001b[0m\u001b[0m\n\u001b[0;32m--> 341\u001b[0;31m   \u001b[0m_message\u001b[0m\u001b[0;34m.\u001b[0m\u001b[0mblocking_request\u001b[0m\u001b[0;34m(\u001b[0m\u001b[0;34m*\u001b[0m\u001b[0mdisplay_args\u001b[0m\u001b[0;34m,\u001b[0m \u001b[0mparent\u001b[0m\u001b[0;34m=\u001b[0m\u001b[0mshell\u001b[0m\u001b[0;34m.\u001b[0m\u001b[0mparent_header\u001b[0m\u001b[0;34m)\u001b[0m\u001b[0;34m\u001b[0m\u001b[0;34m\u001b[0m\u001b[0m\n\u001b[0m\u001b[1;32m    342\u001b[0m \u001b[0;34m\u001b[0m\u001b[0m\n\u001b[1;32m    343\u001b[0m   \u001b[0;32mdef\u001b[0m \u001b[0mecho_updater\u001b[0m\u001b[0;34m(\u001b[0m\u001b[0mnew_echo_status\u001b[0m\u001b[0;34m)\u001b[0m\u001b[0;34m:\u001b[0m\u001b[0;34m\u001b[0m\u001b[0;34m\u001b[0m\u001b[0m\n",
            "\u001b[0;32m/usr/local/lib/python3.6/dist-packages/google/colab/_message.py\u001b[0m in \u001b[0;36mblocking_request\u001b[0;34m(request_type, request, timeout_sec, parent)\u001b[0m\n\u001b[1;32m    169\u001b[0m   \u001b[0;31m# unique.\u001b[0m\u001b[0;34m\u001b[0m\u001b[0;34m\u001b[0m\u001b[0;34m\u001b[0m\u001b[0m\n\u001b[1;32m    170\u001b[0m   \u001b[0mrequest_id\u001b[0m \u001b[0;34m=\u001b[0m \u001b[0msend_request\u001b[0m\u001b[0;34m(\u001b[0m\u001b[0mrequest_type\u001b[0m\u001b[0;34m,\u001b[0m \u001b[0mrequest\u001b[0m\u001b[0;34m,\u001b[0m \u001b[0mparent\u001b[0m\u001b[0;34m=\u001b[0m\u001b[0mparent\u001b[0m\u001b[0;34m)\u001b[0m\u001b[0;34m\u001b[0m\u001b[0;34m\u001b[0m\u001b[0m\n\u001b[0;32m--> 171\u001b[0;31m   \u001b[0;32mreturn\u001b[0m \u001b[0mread_reply_from_input\u001b[0m\u001b[0;34m(\u001b[0m\u001b[0mrequest_id\u001b[0m\u001b[0;34m,\u001b[0m \u001b[0mtimeout_sec\u001b[0m\u001b[0;34m)\u001b[0m\u001b[0;34m\u001b[0m\u001b[0;34m\u001b[0m\u001b[0m\n\u001b[0m",
            "\u001b[0;32m/usr/local/lib/python3.6/dist-packages/google/colab/_message.py\u001b[0m in \u001b[0;36mread_reply_from_input\u001b[0;34m(message_id, timeout_sec)\u001b[0m\n\u001b[1;32m     99\u001b[0m     \u001b[0mreply\u001b[0m \u001b[0;34m=\u001b[0m \u001b[0m_read_next_input_message\u001b[0m\u001b[0;34m(\u001b[0m\u001b[0;34m)\u001b[0m\u001b[0;34m\u001b[0m\u001b[0;34m\u001b[0m\u001b[0m\n\u001b[1;32m    100\u001b[0m     \u001b[0;32mif\u001b[0m \u001b[0mreply\u001b[0m \u001b[0;34m==\u001b[0m \u001b[0m_NOT_READY\u001b[0m \u001b[0;32mor\u001b[0m \u001b[0;32mnot\u001b[0m \u001b[0misinstance\u001b[0m\u001b[0;34m(\u001b[0m\u001b[0mreply\u001b[0m\u001b[0;34m,\u001b[0m \u001b[0mdict\u001b[0m\u001b[0;34m)\u001b[0m\u001b[0;34m:\u001b[0m\u001b[0;34m\u001b[0m\u001b[0;34m\u001b[0m\u001b[0m\n\u001b[0;32m--> 101\u001b[0;31m       \u001b[0mtime\u001b[0m\u001b[0;34m.\u001b[0m\u001b[0msleep\u001b[0m\u001b[0;34m(\u001b[0m\u001b[0;36m0.025\u001b[0m\u001b[0;34m)\u001b[0m\u001b[0;34m\u001b[0m\u001b[0;34m\u001b[0m\u001b[0m\n\u001b[0m\u001b[1;32m    102\u001b[0m       \u001b[0;32mcontinue\u001b[0m\u001b[0;34m\u001b[0m\u001b[0;34m\u001b[0m\u001b[0m\n\u001b[1;32m    103\u001b[0m     if (reply.get('type') == 'colab_reply' and\n",
            "\u001b[0;31mKeyboardInterrupt\u001b[0m: "
          ]
        }
      ]
    }
  ]
}